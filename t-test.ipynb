{
 "cells": [
  {
   "cell_type": "markdown",
   "id": "928d5d72",
   "metadata": {},
   "source": [
    "## One-sample t-test"
   ]
  },
  {
   "cell_type": "markdown",
   "id": "1c3e24c6",
   "metadata": {},
   "source": [
    "H0: There is no significant mean difference in systolic blood pressure. i.e., μ = 165\n",
    "\n",
    "H1: The population mean is less than 165. i.e., μ < 165"
   ]
  },
  {
   "cell_type": "code",
   "execution_count": 29,
   "id": "4c9e1d97",
   "metadata": {},
   "outputs": [
    {
     "name": "stdout",
     "output_type": "stream",
     "text": [
      "Test statistic is -1.243183\n",
      "p-value for one tailed test is 0.117877\n",
      "Conclusion \n",
      " Since p-value(=0.117877) > alpha(=0.05) We fail to reject the null hypothesis H0.\n"
     ]
    }
   ],
   "source": [
    "sys_bp=[183, 152, 178, 157, 194, 163, 144, 114, 178, 152, 118, 158, 172, 138]\n",
    "\n",
    "\n",
    "mu=165\n",
    "\n",
    "\n",
    "from scipy import stats\n",
    "\n",
    "t_value,p_value=stats.ttest_1samp(sys_bp,mu)\n",
    "\n",
    "one_tailed_p_value=float(\"{:.6f}\".format(p_value/2)) # Since alternative hypothesis is one tailed, We need to divide the p value by 2.\n",
    "\n",
    "print('Test statistic is %f'%float(\"{:.6f}\".format(t_value)))\n",
    "\n",
    "print('p-value for one tailed test is %f'%one_tailed_p_value)\n",
    "\n",
    "alpha = 0.05\n",
    "\n",
    "if one_tailed_p_value<=alpha:\n",
    "\n",
    "    print('Conclusion','n','Since p-value(=%f)'%p_value,'<','alpha(=%.2f)'%alpha,'''We reject the null hypothesis H0. \n",
    "\n",
    "So we conclude that there is significant mean difference in systolic blood pressure. \n",
    "\n",
    "i.e., μ = 165 at %.2f level of significance'''%alpha)\n",
    "\n",
    "else:\n",
    "\n",
    "    print('Conclusion','\\n','Since p-value(=%f)'%one_tailed_p_value,'>','alpha(=%.2f)'%alpha,\n",
    "           'We fail to reject the null hypothesis H0.')"
   ]
  },
  {
   "cell_type": "code",
   "execution_count": 28,
   "id": "f43f43ac",
   "metadata": {},
   "outputs": [
    {
     "data": {
      "text/plain": [
       "14"
      ]
     },
     "execution_count": 28,
     "metadata": {},
     "output_type": "execute_result"
    }
   ],
   "source": [
    "len(sys_bp)"
   ]
  },
  {
   "cell_type": "code",
   "execution_count": 11,
   "id": "4209ecf2",
   "metadata": {},
   "outputs": [
    {
     "data": {
      "text/plain": [
       "157.21428571428572"
      ]
     },
     "execution_count": 11,
     "metadata": {},
     "output_type": "execute_result"
    }
   ],
   "source": [
    "sum(sys_bp)/len(sys_bp)"
   ]
  },
  {
   "cell_type": "code",
   "execution_count": 12,
   "id": "e9d7b179",
   "metadata": {},
   "outputs": [
    {
     "data": {
      "text/plain": [
       "157.21428571428572"
      ]
     },
     "execution_count": 12,
     "metadata": {},
     "output_type": "execute_result"
    }
   ],
   "source": [
    "import statistics\n",
    "statistics.mean(sys_bp)"
   ]
  },
  {
   "cell_type": "markdown",
   "id": "942b6a76",
   "metadata": {},
   "source": [
    "## Two-sample t-test"
   ]
  },
  {
   "cell_type": "markdown",
   "id": "b95312a4",
   "metadata": {},
   "source": [
    "##### H0: The effect of A and B on grain yield are equal i.e., μ1 = μ2\n",
    "\n",
    "##### H1: The effect of A and B on grain yield are not equal i.e., μ1 ≠ μ2"
   ]
  },
  {
   "cell_type": "code",
   "execution_count": 18,
   "id": "b7b71f64",
   "metadata": {},
   "outputs": [],
   "source": [
    "A=[13.4,10.9,11.2,11.8,14,15.3,14.2,12.6,17,16.2,16.5,15.7]\n",
    "B=[12,11.7,10.7,11.2,14.8,14.4,13.9,13.7,16.9,16,15.6,16]"
   ]
  },
  {
   "cell_type": "code",
   "execution_count": 30,
   "id": "741db899",
   "metadata": {},
   "outputs": [
    {
     "data": {
      "text/plain": [
       "12"
      ]
     },
     "execution_count": 30,
     "metadata": {},
     "output_type": "execute_result"
    }
   ],
   "source": [
    "len(A)"
   ]
  },
  {
   "cell_type": "code",
   "execution_count": 32,
   "id": "610d640c",
   "metadata": {},
   "outputs": [
    {
     "name": "stdout",
     "output_type": "stream",
     "text": [
      "14.066666666666666\n",
      "13.908333333333333\n"
     ]
    }
   ],
   "source": [
    "import statistics\n",
    "print(statistics.mean(A))\n",
    "print(statistics.mean(B))"
   ]
  },
  {
   "cell_type": "code",
   "execution_count": 19,
   "id": "d3fb0817",
   "metadata": {},
   "outputs": [],
   "source": [
    "from scipy import stats\n",
    "\n",
    "t_value,p_value=stats.ttest_ind(A,B)"
   ]
  },
  {
   "cell_type": "code",
   "execution_count": 27,
   "id": "4e6aa34d",
   "metadata": {},
   "outputs": [
    {
     "name": "stdout",
     "output_type": "stream",
     "text": [
      "Test statistic is -1.707331\n",
      "p-value for two tailed test is 0.118565\n",
      "Conclusion: \n",
      " Since p-value(=0.118565) > alpha(=0.05) We fail to reject the null hypothesis H0.\n"
     ]
    }
   ],
   "source": [
    "print('Test statistic is %f'%float(\"{:.6f}\".format(t_value)))\n",
    "\n",
    "print('p-value for two tailed test is %f'%p_value)\n",
    "\n",
    "alpha = 0.05\n",
    "\n",
    "if p_value<=alpha:\n",
    "\n",
    "    print('Conclusion:','\\n','Since p-value(=%f)'%p_value,'<','alpha(=%.2f)'%alpha,'''We reject the null hypothesis. So we conclude that the \n",
    "\n",
    "effect of A and B on grain yield are not equal i.e., μ1 = μ2 at %.2f level of significance.'''%alpha)\n",
    "\n",
    "else:\n",
    "\n",
    "    print('Conclusion:','\\n','Since p-value(=%f)'%p_value,'>','alpha(=%.2f)'%alpha,'''We fail to reject the null hypothesis H0.''')"
   ]
  },
  {
   "cell_type": "markdown",
   "id": "19b0799b",
   "metadata": {},
   "source": [
    "## Paired t-test"
   ]
  },
  {
   "cell_type": "markdown",
   "id": "88ddcfb3",
   "metadata": {},
   "source": [
    "H0: The students have not benefited from the tuition class. i.e., d = 0\n",
    "\n",
    "H1: The students have benefited from the tuition class. i.e., d < 0\n",
    "\n",
    "Where, d = x-y; d is the difference between marks in the first test (say x) and marks in the second test (say y)."
   ]
  },
  {
   "cell_type": "code",
   "execution_count": 23,
   "id": "41da59c2",
   "metadata": {},
   "outputs": [],
   "source": [
    "alpha = 0.05\n",
    "first_test =[23, 20, 19, 21, 18, 20, 18, 17, 23, 16, 19]\n",
    "second_test=[24, 19, 22, 18, 20, 22, 20, 20, 23, 20, 18]"
   ]
  },
  {
   "cell_type": "code",
   "execution_count": 34,
   "id": "7867a906",
   "metadata": {},
   "outputs": [
    {
     "name": "stdout",
     "output_type": "stream",
     "text": [
      "Test statistic is -1.707331\n",
      "p-value for one_tailed_test is 0.059282\n",
      "Conclusion: \n",
      " Since p-value(=0.059282) > alpha(=0.05) We fail to reject the null hypothesis H0. \n",
      "\n",
      "So we conclude that the students have not benefited by the tuition class. i.e., d = 0 at 0.05 level of significance.\n"
     ]
    }
   ],
   "source": [
    "from scipy import stats\n",
    "\n",
    "t_value,p_value=stats.ttest_rel(first_test,second_test)\n",
    "\n",
    "one_tailed_p_value=float(\"{:.6f}\".format(p_value/2)) \n",
    "\n",
    "print('Test statistic is %f'%float(\"{:.6f}\".format(t_value)))\n",
    "\n",
    "print('p-value for one_tailed_test is %f'%one_tailed_p_value)\n",
    "\n",
    "alpha = 0.05\n",
    "\n",
    "if one_tailed_p_value<=alpha:\n",
    "\n",
    "    print('Conclusion:','\\n','Since p-value(=%f)'%one_tailed_p_value,'<','alpha(=%.2f)'%alpha,'''We reject the null hypothesis H0. \n",
    "\n",
    "So we conclude that the students have benefited by the tuition class. i.e., d = 0 at %.2f level of significance.'''%alpha)\n",
    "\n",
    "else:\n",
    "\n",
    "    print('Conclusion:','\\n','Since p-value(=%f)'%one_tailed_p_value,'>','alpha(=%.2f)'%alpha,'''We fail to reject the null hypothesis H0. \n",
    "\n",
    "So we conclude that the students have not benefited by the tuition class. i.e., d = 0 at %.2f level of significance.'''%alpha)"
   ]
  },
  {
   "cell_type": "code",
   "execution_count": null,
   "id": "836930d0",
   "metadata": {},
   "outputs": [],
   "source": []
  }
 ],
 "metadata": {
  "kernelspec": {
   "display_name": "Python 3",
   "language": "python",
   "name": "python3"
  },
  "language_info": {
   "codemirror_mode": {
    "name": "ipython",
    "version": 3
   },
   "file_extension": ".py",
   "mimetype": "text/x-python",
   "name": "python",
   "nbconvert_exporter": "python",
   "pygments_lexer": "ipython3",
   "version": "3.8.8"
  }
 },
 "nbformat": 4,
 "nbformat_minor": 5
}
