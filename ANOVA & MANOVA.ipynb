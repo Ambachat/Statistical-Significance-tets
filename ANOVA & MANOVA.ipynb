{
 "cells": [
  {
   "cell_type": "markdown",
   "id": "0015520a",
   "metadata": {},
   "source": [
    "ANOVA, short for Analysis of Variance, and also called AOV, is a hypothesis testing technique. The most common use case for ANOVA is when you do an experiment in which your outcome variable is numeric, and your explanatory variable is a categorical variable with three or more classes."
   ]
  },
  {
   "cell_type": "markdown",
   "id": "35d9eab2",
   "metadata": {},
   "source": [
    "E.g. There is a trial for a new agricultural crop growth product in which you measure the performance of two new treatments and a control group(where no new treatment has been implemented, that is either untreated or treated in old method). \n",
    "You measure a numerical outcome (for example kilograms of harvest) in the three groups (treatment 1, treatment 2, and control).\n",
    "You then compute the average kilograms of harvest for each treatment, and you observe that there are differences in the averages. However, you need to define whether the differences are large enough to state that the outcomes were significantly different and that the differences were not just due to some random variations or sampling error.\n",
    "This is what ANOVA is made for. "
   ]
  },
  {
   "cell_type": "markdown",
   "id": "0d62113b",
   "metadata": {},
   "source": [
    "MANOVA is a multivariate version of the ANOVA model. Multivariate here indicates the fact that there are multiple dependent variables instead of just one.\n",
    "\n",
    "The goal of a MANOVA analysis is still to detect whether there is a treatment effect vs the other groups. However, this effect is now measured across multiple continuous variables rather than just one."
   ]
  },
  {
   "cell_type": "markdown",
   "id": "bf0eab5a",
   "metadata": {},
   "source": [
    "In this case, let’s do a study in which the goal is to prove that different plant growth products lead to significantly different plant growth.\n",
    "\n",
    "Therefore, we will have three treatments:\n",
    "\n",
    "Treatment 1 (Control, No Product)\n",
    "Treatment 2 (product 1)\n",
    "Treatment 3 (product 2)\n",
    "We will use three measurements for defining plant growth:\n",
    "\n",
    "1. height of the plant\n",
    "2. width of the plant\n",
    "3. weight of the plant"
   ]
  },
  {
   "cell_type": "markdown",
   "id": "19c19909",
   "metadata": {},
   "source": [
    "Let's import the data with height, width and weight for each treatment type.\n",
    "For ANOVA, we test only Weight.\n",
    "For MANOVA, we test all three."
   ]
  },
  {
   "cell_type": "code",
   "execution_count": 18,
   "id": "2b1cba84",
   "metadata": {},
   "outputs": [],
   "source": [
    "import pandas as pd\n",
    "data = pd.read_csv(r'C:\\Users\\2084820\\OneDrive - Cognizant\\Documents\\DS sessions\\plant_growth_multivariate_data.csv')"
   ]
  },
  {
   "cell_type": "code",
   "execution_count": 24,
   "id": "92a3e583",
   "metadata": {},
   "outputs": [
    {
     "data": {
      "text/html": [
       "<div>\n",
       "<style scoped>\n",
       "    .dataframe tbody tr th:only-of-type {\n",
       "        vertical-align: middle;\n",
       "    }\n",
       "\n",
       "    .dataframe tbody tr th {\n",
       "        vertical-align: top;\n",
       "    }\n",
       "\n",
       "    .dataframe thead th {\n",
       "        text-align: right;\n",
       "    }\n",
       "</style>\n",
       "<table border=\"1\" class=\"dataframe\">\n",
       "  <thead>\n",
       "    <tr style=\"text-align: right;\">\n",
       "      <th></th>\n",
       "      <th>Treatment</th>\n",
       "      <th>Height</th>\n",
       "      <th>Width</th>\n",
       "      <th>Weight</th>\n",
       "    </tr>\n",
       "  </thead>\n",
       "  <tbody>\n",
       "    <tr>\n",
       "      <th>0</th>\n",
       "      <td>1</td>\n",
       "      <td>15.8</td>\n",
       "      <td>3.9</td>\n",
       "      <td>29.40</td>\n",
       "    </tr>\n",
       "    <tr>\n",
       "      <th>1</th>\n",
       "      <td>1</td>\n",
       "      <td>15.1</td>\n",
       "      <td>3.8</td>\n",
       "      <td>29.90</td>\n",
       "    </tr>\n",
       "    <tr>\n",
       "      <th>2</th>\n",
       "      <td>1</td>\n",
       "      <td>14.8</td>\n",
       "      <td>4.1</td>\n",
       "      <td>30.10</td>\n",
       "    </tr>\n",
       "    <tr>\n",
       "      <th>3</th>\n",
       "      <td>1</td>\n",
       "      <td>14.4</td>\n",
       "      <td>4.7</td>\n",
       "      <td>30.20</td>\n",
       "    </tr>\n",
       "    <tr>\n",
       "      <th>4</th>\n",
       "      <td>1</td>\n",
       "      <td>15.1</td>\n",
       "      <td>3.7</td>\n",
       "      <td>30.90</td>\n",
       "    </tr>\n",
       "    <tr>\n",
       "      <th>5</th>\n",
       "      <td>2</td>\n",
       "      <td>15.7</td>\n",
       "      <td>4.8</td>\n",
       "      <td>31.20</td>\n",
       "    </tr>\n",
       "    <tr>\n",
       "      <th>6</th>\n",
       "      <td>2</td>\n",
       "      <td>15.9</td>\n",
       "      <td>4.3</td>\n",
       "      <td>31.40</td>\n",
       "    </tr>\n",
       "    <tr>\n",
       "      <th>7</th>\n",
       "      <td>2</td>\n",
       "      <td>15.4</td>\n",
       "      <td>4.5</td>\n",
       "      <td>31.80</td>\n",
       "    </tr>\n",
       "    <tr>\n",
       "      <th>8</th>\n",
       "      <td>2</td>\n",
       "      <td>16.7</td>\n",
       "      <td>5.4</td>\n",
       "      <td>32.44</td>\n",
       "    </tr>\n",
       "    <tr>\n",
       "      <th>9</th>\n",
       "      <td>2</td>\n",
       "      <td>16.9</td>\n",
       "      <td>5.8</td>\n",
       "      <td>32.60</td>\n",
       "    </tr>\n",
       "    <tr>\n",
       "      <th>10</th>\n",
       "      <td>3</td>\n",
       "      <td>16.5</td>\n",
       "      <td>5.4</td>\n",
       "      <td>33.20</td>\n",
       "    </tr>\n",
       "    <tr>\n",
       "      <th>11</th>\n",
       "      <td>3</td>\n",
       "      <td>16.9</td>\n",
       "      <td>5.8</td>\n",
       "      <td>33.40</td>\n",
       "    </tr>\n",
       "    <tr>\n",
       "      <th>12</th>\n",
       "      <td>3</td>\n",
       "      <td>17.1</td>\n",
       "      <td>6.4</td>\n",
       "      <td>33.10</td>\n",
       "    </tr>\n",
       "    <tr>\n",
       "      <th>13</th>\n",
       "      <td>3</td>\n",
       "      <td>17.3</td>\n",
       "      <td>4.2</td>\n",
       "      <td>32.90</td>\n",
       "    </tr>\n",
       "    <tr>\n",
       "      <th>14</th>\n",
       "      <td>3</td>\n",
       "      <td>17.5</td>\n",
       "      <td>6.7</td>\n",
       "      <td>33.10</td>\n",
       "    </tr>\n",
       "  </tbody>\n",
       "</table>\n",
       "</div>"
      ],
      "text/plain": [
       "    Treatment  Height  Width  Weight\n",
       "0           1    15.8    3.9   29.40\n",
       "1           1    15.1    3.8   29.90\n",
       "2           1    14.8    4.1   30.10\n",
       "3           1    14.4    4.7   30.20\n",
       "4           1    15.1    3.7   30.90\n",
       "5           2    15.7    4.8   31.20\n",
       "6           2    15.9    4.3   31.40\n",
       "7           2    15.4    4.5   31.80\n",
       "8           2    16.7    5.4   32.44\n",
       "9           2    16.9    5.8   32.60\n",
       "10          3    16.5    5.4   33.20\n",
       "11          3    16.9    5.8   33.40\n",
       "12          3    17.1    6.4   33.10\n",
       "13          3    17.3    4.2   32.90\n",
       "14          3    17.5    6.7   33.10"
      ]
     },
     "execution_count": 24,
     "metadata": {},
     "output_type": "execute_result"
    }
   ],
   "source": [
    "data"
   ]
  },
  {
   "cell_type": "code",
   "execution_count": 23,
   "id": "1143a9cf",
   "metadata": {},
   "outputs": [
    {
     "data": {
      "text/plain": [
       "F_onewayResult(statistic=49.26710941017562, pvalue=1.6372198388045576e-06)"
      ]
     },
     "execution_count": 23,
     "metadata": {},
     "output_type": "execute_result"
    }
   ],
   "source": [
    "#ANOVA applied\n",
    "from scipy.stats import f_oneway\n",
    "\n",
    "f_oneway(data[data[\"Treatment\"]==1][\"Weight\"], data[data[\"Treatment\"]==2][\"Weight\"], data[data[\"Treatment\"]==3][\"Weight\"])"
   ]
  },
  {
   "cell_type": "markdown",
   "id": "71b7c2fb",
   "metadata": {},
   "source": [
    "Since p-value is less that 0.05, we reject the null hypothesis.\n",
    "There is significant diffrence in the weights of the plants for different treatments applied."
   ]
  },
  {
   "cell_type": "code",
   "execution_count": 25,
   "id": "29a2100c",
   "metadata": {},
   "outputs": [
    {
     "name": "stdout",
     "output_type": "stream",
     "text": [
      "                   Multivariate linear model\n",
      "================================================================\n",
      "                                                                \n",
      "----------------------------------------------------------------\n",
      "       Intercept         Value   Num DF  Den DF  F Value  Pr > F\n",
      "----------------------------------------------------------------\n",
      "          Wilks' lambda   0.0014 3.0000 11.0000 2541.6075 0.0000\n",
      "         Pillai's trace   0.9986 3.0000 11.0000 2541.6075 0.0000\n",
      " Hotelling-Lawley trace 693.1657 3.0000 11.0000 2541.6075 0.0000\n",
      "    Roy's greatest root 693.1657 3.0000 11.0000 2541.6075 0.0000\n",
      "----------------------------------------------------------------\n",
      "                                                                \n",
      "----------------------------------------------------------------\n",
      "           Treatment        Value  Num DF  Den DF F Value Pr > F\n",
      "----------------------------------------------------------------\n",
      "              Wilks' lambda 0.1005 3.0000 11.0000 32.8119 0.0000\n",
      "             Pillai's trace 0.8995 3.0000 11.0000 32.8119 0.0000\n",
      "     Hotelling-Lawley trace 8.9487 3.0000 11.0000 32.8119 0.0000\n",
      "        Roy's greatest root 8.9487 3.0000 11.0000 32.8119 0.0000\n",
      "================================================================\n",
      "\n"
     ]
    }
   ],
   "source": [
    "#MANOVA applied\n",
    "from statsmodels.multivariate.manova import MANOVA\n",
    "\n",
    "# fit manova\n",
    "manova_result = MANOVA.from_formula('Height + Width + Weight ~ Treatment', data)\n",
    "print(manova_result.mv_test())"
   ]
  },
  {
   "cell_type": "markdown",
   "id": "ca8b8e02",
   "metadata": {},
   "source": [
    "Pillai’s trace is known to be relatively conservative: it gives a significant result less easily (the differences have to be bigger to obtain significant output).\n",
    "\n",
    "The Wilks’ Lambda is another often-used test statistic. Hotelling-Lawley trace and Roy’s greatest root are also alternative options. There is no absolute consensus in the statistical literature as to which test statistic should be preferred.\n",
    "\n",
    "The p-values are shown in the right column and are all less than 0.05, which confirms that treatment has an impact on plant growth across all metrics."
   ]
  },
  {
   "cell_type": "code",
   "execution_count": 26,
   "id": "b210a5f4",
   "metadata": {},
   "outputs": [
    {
     "data": {
      "text/plain": [
       "'C:\\\\Users\\\\2084820'"
      ]
     },
     "execution_count": 26,
     "metadata": {},
     "output_type": "execute_result"
    }
   ],
   "source": [
    "import os\n",
    "os.getcwd()"
   ]
  },
  {
   "cell_type": "code",
   "execution_count": null,
   "id": "9cc77282",
   "metadata": {},
   "outputs": [],
   "source": []
  }
 ],
 "metadata": {
  "kernelspec": {
   "display_name": "Python 3",
   "language": "python",
   "name": "python3"
  },
  "language_info": {
   "codemirror_mode": {
    "name": "ipython",
    "version": 3
   },
   "file_extension": ".py",
   "mimetype": "text/x-python",
   "name": "python",
   "nbconvert_exporter": "python",
   "pygments_lexer": "ipython3",
   "version": "3.8.8"
  }
 },
 "nbformat": 4,
 "nbformat_minor": 5
}
